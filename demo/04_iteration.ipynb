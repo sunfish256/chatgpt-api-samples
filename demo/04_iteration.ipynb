{
 "cells": [
  {
   "cell_type": "code",
   "execution_count": 1,
   "id": "6379565c-b8b6-4438-8f2a-a6081c7d1f82",
   "metadata": {},
   "outputs": [],
   "source": [
    "import openai\n",
    "import os\n",
    "import time\n",
    "import pandas as pd\n",
    "from pathlib import Path\n",
    "from tqdm import tqdm"
   ]
  },
  {
   "cell_type": "markdown",
   "id": "bfdfbb0b-d360-4b2a-a035-db22a6aba23a",
   "metadata": {
    "tags": []
   },
   "source": [
    "APIキーは以下のURLから取得できます。  \n",
    "https://platform.openai.com/account/api-keys  \n",
    "\n",
    "【注意】  \n",
    "<font color=\"Crimson\">APIキーが流出すると他人に利用されて料金を請求されます！</font>  \n",
    "絶対に共有してはいけません。  "
   ]
  },
  {
   "cell_type": "code",
   "execution_count": 2,
   "id": "dd897dad-06b1-4cda-87a3-bde4940178a1",
   "metadata": {},
   "outputs": [],
   "source": [
    "# APIキーの読み込み\n",
    "# キーを格納したテキストファイルを指定して読み込み\n",
    "with open(f'{Path.home()}/.private_info/api_key.txt') as f:\n",
    "    openai.api_key = f.read()"
   ]
  },
  {
   "cell_type": "markdown",
   "id": "2ba51b90-7ad5-46e6-85c6-048dc024eb6e",
   "metadata": {},
   "source": [
    "# ChatGPT APIのリクエスト送信制限について  \n",
    "  \n",
    "時間当たりのトークン数とリクエスト数は上限が定められており、どちらか1つでも上限を超えるとRateLimitErrorになります。  \n",
    "レート制限はユーザ属性で大きく異なります。  \n",
    "イテレーションする際、トークン上限はあまり気にならないですがリクエスト上限は要注意です。  \n",
    "\n",
    "【リクエスト上限】  \n",
    "クレジットカード未登録：1分当たり3リクエストが上限  \n",
    "クレジットカード登録から48時間：1分当たり35リクエストが上限  \n",
    "クレジットカード登録から48時間後：1分当たり3500リクエストが上限  \n",
    "[リミット詳細（公式）](https://platform.openai.com/docs/guides/rate-limits/overview)  \n",
    "\n",
    "クレジットカード未登録ユーザでは実質イテレーション不可能なので、[こちら](https://platform.openai.com/account/billing/payment-methods)から登録推奨。  \n",
    "クレジットカードを登録しても、配布された無料クレジットがある場合にはそちらから消費されます。  \n",
    "クレジットカードを登録すると従量課金となり、トークン消費に応じて毎月料金を請求されます。  \n",
    "高額請求が不安な場合は[こちら](https://platform.openai.com/account/billing/limits)から月の利用料上限を設定可能です。  \n",
    "\n",
    "【トークン見積もり】  \n",
    "1. [Tokenizer](https://platform.openai.com/tokenizer)  \n",
    "テキストを入力するとトークン数を表示してくれる公式Webサービスです。  \n",
    "2. [tiktoken](https://github.com/openai/tiktoken)  \n",
    "OpenAIが提供しているライブラリを用いてトークン化すると、要素数がトークン数になります。  \n",
    "```python\n",
    "import tiktoken\n",
    "\n",
    "tiktoken.encoding_for_model('gpt-3.5-turbo')\n",
    "tokens = enc.encode('Hello World!')\n",
    "print(len(tokens))\n",
    "```\n",
    "<br>\n",
    "\n",
    "トークン量が上限を超える場合は、まず以下の対処を考えます。  \n",
    "・チャットの往復を減らす（こまめにmessageをリセットする）  \n",
    "・openai.ChatCompletion.createの引数max_tokenを指定して、モデルが生成するメッセージの最大トークン数を制限する  "
   ]
  },
  {
   "cell_type": "code",
   "execution_count": 3,
   "id": "cb25d320-b363-48cb-90bc-d182b27df822",
   "metadata": {
    "tags": []
   },
   "outputs": [],
   "source": [
    "# ChatGPT settings\n",
    "def send_request(message: str, role: str, delay: float = None, **kwargs):\n",
    "    \"\"\"\n",
    "    レート上限に引っかかる場合は、引数delay（秒）を指定し、リクエスト送信毎に待機時間を設ける。\n",
    "    \"\"\"\n",
    "    if delay:\n",
    "        time.sleep(delay)\n",
    "    messages = []\n",
    "    # system role\n",
    "    if role:\n",
    "        messages.append(\n",
    "            {'role': 'system', 'content': role},\n",
    "        )\n",
    "    # input message\n",
    "    messages.append(\n",
    "        {'role': 'user', 'content': message},\n",
    "    )\n",
    "    # send request\n",
    "    chat_completion = openai.ChatCompletion.create(\n",
    "        model='gpt-3.5-turbo',\n",
    "        messages=messages,\n",
    "        **kwargs\n",
    "    )\n",
    "    # get reply\n",
    "    reply = chat_completion.choices[0].message.content\n",
    "    return reply"
   ]
  },
  {
   "cell_type": "markdown",
   "id": "4e76af55-a11a-44cc-90fa-4ee7a2fec66a",
   "metadata": {},
   "source": [
    "# CSV処理関数の作成"
   ]
  },
  {
   "cell_type": "markdown",
   "id": "d9a80a5a-e1b1-425c-82da-7ea5a1ab8196",
   "metadata": {},
   "source": [
    "元のcsv"
   ]
  },
  {
   "cell_type": "code",
   "execution_count": 4,
   "id": "e1f4cecd-e0b7-4dc0-bdc5-68df9a7811f1",
   "metadata": {},
   "outputs": [
    {
     "data": {
      "text/html": [
       "<div>\n",
       "<style scoped>\n",
       "    .dataframe tbody tr th:only-of-type {\n",
       "        vertical-align: middle;\n",
       "    }\n",
       "\n",
       "    .dataframe tbody tr th {\n",
       "        vertical-align: top;\n",
       "    }\n",
       "\n",
       "    .dataframe thead th {\n",
       "        text-align: right;\n",
       "    }\n",
       "</style>\n",
       "<table border=\"1\" class=\"dataframe\">\n",
       "  <thead>\n",
       "    <tr style=\"text-align: right;\">\n",
       "      <th></th>\n",
       "      <th>role</th>\n",
       "      <th>message</th>\n",
       "    </tr>\n",
       "  </thead>\n",
       "  <tbody>\n",
       "    <tr>\n",
       "      <th>0</th>\n",
       "      <td>日付に関する情報を読み取り回答せよ。回答形式は「1月1日9時0分」の場合は「1-1 9:00...</td>\n",
       "      <td>(７月２１日（水) １８時５４分)</td>\n",
       "    </tr>\n",
       "    <tr>\n",
       "      <th>1</th>\n",
       "      <td>日付に関する情報を読み取り回答せよ。回答形式は「1月1日9時0分」の場合は「1-1 9:00...</td>\n",
       "      <td>(８月１８日（水) １６時５９分)</td>\n",
       "    </tr>\n",
       "    <tr>\n",
       "      <th>2</th>\n",
       "      <td>日付に関する情報を読み取り回答せよ。回答形式は「1月1日9時0分」の場合は「1-1 9:00...</td>\n",
       "      <td>(８月２４日（火) １１時１８分)</td>\n",
       "    </tr>\n",
       "    <tr>\n",
       "      <th>3</th>\n",
       "      <td>日付に関する情報を読み取り回答せよ。回答形式は「1月1日9時0分」の場合は「1-1 9:00...</td>\n",
       "      <td>(８月２７日（金) １４時１１分)</td>\n",
       "    </tr>\n",
       "    <tr>\n",
       "      <th>4</th>\n",
       "      <td>日付に関する情報を読み取り回答せよ。回答形式は「1月1日9時0分」の場合は「1-1 9:00...</td>\n",
       "      <td>(９月３日（金) １４時)</td>\n",
       "    </tr>\n",
       "  </tbody>\n",
       "</table>\n",
       "</div>"
      ],
      "text/plain": [
       "                                                role            message\n",
       "0  日付に関する情報を読み取り回答せよ。回答形式は「1月1日9時0分」の場合は「1-1 9:00...  (７月２１日（水) １８時５４分)\n",
       "1  日付に関する情報を読み取り回答せよ。回答形式は「1月1日9時0分」の場合は「1-1 9:00...  (８月１８日（水) １６時５９分)\n",
       "2  日付に関する情報を読み取り回答せよ。回答形式は「1月1日9時0分」の場合は「1-1 9:00...  (８月２４日（火) １１時１８分)\n",
       "3  日付に関する情報を読み取り回答せよ。回答形式は「1月1日9時0分」の場合は「1-1 9:00...  (８月２７日（金) １４時１１分)\n",
       "4  日付に関する情報を読み取り回答せよ。回答形式は「1月1日9時0分」の場合は「1-1 9:00...      (９月３日（金) １４時)"
      ]
     },
     "execution_count": 4,
     "metadata": {},
     "output_type": "execute_result"
    }
   ],
   "source": [
    "pd.read_csv('./data/questions.csv', encoding='utf-8-sig').head()"
   ]
  },
  {
   "cell_type": "code",
   "execution_count": 5,
   "id": "715c0a6e-a410-4e13-82a6-9aba7c3bc086",
   "metadata": {},
   "outputs": [],
   "source": [
    "def reply_to_csv(path: str,\n",
    "                 message_col: str = 'message',\n",
    "                 role_col: str = None,\n",
    "                 delay: float = 3,\n",
    "                 read_kwargs: dict = {},\n",
    "                 gpt_kwargs: dict = {}) -> pd.core.frame.DataFrame:\n",
    "    \"\"\"\n",
    "    message_col: ChatGPTに送信するメッセージ（user role）の列名\n",
    "    role_col: system roleの列名（任意）\n",
    "    System roleを設定しない場合はメッセージの内容のみから回答する\n",
    "    \"\"\"\n",
    "    df = pd.read_csv(path, **read_kwargs)\n",
    "    message_list = df.loc[:, message_col].values\n",
    "    if role_col:\n",
    "        role_list = df.loc[:, role_col].values\n",
    "    else:\n",
    "        role_list = [None] * len(message_list)\n",
    "    assert len(message_list) == len(role_list), 'role列とmessage列の長さが異なります。揃えて再実行して下さい。'\n",
    "    reply_list = []\n",
    "    for role, message in zip(tqdm(role_list), message_list):\n",
    "        reply = send_request(message=message, role=role, delay=delay, **gpt_kwargs)\n",
    "        reply_list.append(reply)\n",
    "    df['reply'] = reply_list\n",
    "    # Save to csv\n",
    "    root, ext = os.path.splitext(path)\n",
    "    df.to_csv(f'{root}_reply{ext}', encoding='utf-8-sig', index=False)\n",
    "    return df"
   ]
  },
  {
   "cell_type": "code",
   "execution_count": 6,
   "id": "a1bcd6bf-041c-408e-b78a-35bae6fc2aaa",
   "metadata": {},
   "outputs": [
    {
     "name": "stderr",
     "output_type": "stream",
     "text": [
      "100%|██████████| 24/24 [00:51<00:00,  2.16s/it]\n"
     ]
    }
   ],
   "source": [
    "df = reply_to_csv(path='./data/questions.csv',\n",
    "                  message_col='message',\n",
    "                  role_col='role',\n",
    "                  delay=None,\n",
    "                  read_kwargs=dict(encoding='utf-8-sig'),\n",
    "                  gpt_kwargs=dict(temperature=0.7))"
   ]
  },
  {
   "cell_type": "markdown",
   "id": "40453f06-c5e3-4e94-9b7c-0854d08602ce",
   "metadata": {},
   "source": [
    "ChatGPTの回答付きcsv"
   ]
  },
  {
   "cell_type": "code",
   "execution_count": 7,
   "id": "f2a3504b-8419-4d19-8f4e-3f4232402723",
   "metadata": {},
   "outputs": [
    {
     "data": {
      "text/html": [
       "<div>\n",
       "<style scoped>\n",
       "    .dataframe tbody tr th:only-of-type {\n",
       "        vertical-align: middle;\n",
       "    }\n",
       "\n",
       "    .dataframe tbody tr th {\n",
       "        vertical-align: top;\n",
       "    }\n",
       "\n",
       "    .dataframe thead th {\n",
       "        text-align: right;\n",
       "    }\n",
       "</style>\n",
       "<table border=\"1\" class=\"dataframe\">\n",
       "  <thead>\n",
       "    <tr style=\"text-align: right;\">\n",
       "      <th></th>\n",
       "      <th>role</th>\n",
       "      <th>message</th>\n",
       "      <th>reply</th>\n",
       "    </tr>\n",
       "  </thead>\n",
       "  <tbody>\n",
       "    <tr>\n",
       "      <th>0</th>\n",
       "      <td>日付に関する情報を読み取り回答せよ。回答形式は「1月1日9時0分」の場合は「1-1 9:00...</td>\n",
       "      <td>(７月２１日（水) １８時５４分)</td>\n",
       "      <td>7-21 18:54</td>\n",
       "    </tr>\n",
       "    <tr>\n",
       "      <th>1</th>\n",
       "      <td>日付に関する情報を読み取り回答せよ。回答形式は「1月1日9時0分」の場合は「1-1 9:00...</td>\n",
       "      <td>(８月１８日（水) １６時５９分)</td>\n",
       "      <td>8-18 16:59</td>\n",
       "    </tr>\n",
       "    <tr>\n",
       "      <th>2</th>\n",
       "      <td>日付に関する情報を読み取り回答せよ。回答形式は「1月1日9時0分」の場合は「1-1 9:00...</td>\n",
       "      <td>(８月２４日（火) １１時１８分)</td>\n",
       "      <td>8-24 11:18</td>\n",
       "    </tr>\n",
       "    <tr>\n",
       "      <th>3</th>\n",
       "      <td>日付に関する情報を読み取り回答せよ。回答形式は「1月1日9時0分」の場合は「1-1 9:00...</td>\n",
       "      <td>(８月２７日（金) １４時１１分)</td>\n",
       "      <td>8-27 14:11</td>\n",
       "    </tr>\n",
       "    <tr>\n",
       "      <th>4</th>\n",
       "      <td>日付に関する情報を読み取り回答せよ。回答形式は「1月1日9時0分」の場合は「1-1 9:00...</td>\n",
       "      <td>(９月３日（金) １４時)</td>\n",
       "      <td>9-3 14:00</td>\n",
       "    </tr>\n",
       "  </tbody>\n",
       "</table>\n",
       "</div>"
      ],
      "text/plain": [
       "                                                role            message  \\\n",
       "0  日付に関する情報を読み取り回答せよ。回答形式は「1月1日9時0分」の場合は「1-1 9:00...  (７月２１日（水) １８時５４分)   \n",
       "1  日付に関する情報を読み取り回答せよ。回答形式は「1月1日9時0分」の場合は「1-1 9:00...  (８月１８日（水) １６時５９分)   \n",
       "2  日付に関する情報を読み取り回答せよ。回答形式は「1月1日9時0分」の場合は「1-1 9:00...  (８月２４日（火) １１時１８分)   \n",
       "3  日付に関する情報を読み取り回答せよ。回答形式は「1月1日9時0分」の場合は「1-1 9:00...  (８月２７日（金) １４時１１分)   \n",
       "4  日付に関する情報を読み取り回答せよ。回答形式は「1月1日9時0分」の場合は「1-1 9:00...      (９月３日（金) １４時)   \n",
       "\n",
       "        reply  \n",
       "0  7-21 18:54  \n",
       "1  8-18 16:59  \n",
       "2  8-24 11:18  \n",
       "3  8-27 14:11  \n",
       "4   9-3 14:00  "
      ]
     },
     "execution_count": 7,
     "metadata": {},
     "output_type": "execute_result"
    }
   ],
   "source": [
    "df.head()"
   ]
  }
 ],
 "metadata": {
  "kernelspec": {
   "display_name": "Python [conda env:.conda-myenv]",
   "language": "python",
   "name": "conda-env-.conda-myenv-py"
  },
  "language_info": {
   "codemirror_mode": {
    "name": "ipython",
    "version": 3
   },
   "file_extension": ".py",
   "mimetype": "text/x-python",
   "name": "python",
   "nbconvert_exporter": "python",
   "pygments_lexer": "ipython3",
   "version": "3.9.16"
  }
 },
 "nbformat": 4,
 "nbformat_minor": 5
}
