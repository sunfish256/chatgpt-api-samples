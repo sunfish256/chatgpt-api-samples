{
 "cells": [
  {
   "cell_type": "markdown",
   "id": "6700ba3d-4b54-4d69-84be-246e56f6e79e",
   "metadata": {},
   "source": [
    "# LangChainでラクラク！「WebChat」\n",
    "[参考サイト(検索API)](https://zenn.dev/kun432/scraps/cefc75b14ff013)  "
   ]
  },
  {
   "cell_type": "markdown",
   "id": "070da032-6b87-47bb-92b9-55a70dd341e6",
   "metadata": {
    "tags": []
   },
   "source": [
    "# LangChainとは\n",
    "\n",
    "言語モデルを利用してアプリケーションを開発するためのフレームワークである。  \n",
    "[公式サイト](https://python.langchain.com/en/latest/index.html)  \n",
    "[日本語参考サイト](https://zenn.dev/umi_mori/books/prompt-engineer/viewer/langchain_overview)  "
   ]
  },
  {
   "cell_type": "code",
   "execution_count": 1,
   "id": "d9356b99-14a1-4ce6-944f-2de029874858",
   "metadata": {},
   "outputs": [],
   "source": [
    "# ! pip install langchain google-search-results"
   ]
  },
  {
   "cell_type": "code",
   "execution_count": 2,
   "id": "5d4d9172-ae2d-49ec-9b1f-ff2ea14f3744",
   "metadata": {},
   "outputs": [],
   "source": [
    "from pathlib import Path\n",
    "\n",
    "from langchain.agents import load_tools\n",
    "from langchain.agents import initialize_agent\n",
    "from langchain.chat_models import ChatOpenAI\n",
    "from langchain.memory import ConversationBufferMemory"
   ]
  },
  {
   "cell_type": "code",
   "execution_count": 3,
   "id": "f8bb7301-b8b5-4253-ab92-b10517aad39c",
   "metadata": {},
   "outputs": [],
   "source": [
    "# GPTのAPIキー読み込み\n",
    "with open(f'{Path.home()}/.private_info/api_key.txt') as f1:\n",
    "    api_key = f1.read()"
   ]
  },
  {
   "cell_type": "code",
   "execution_count": 4,
   "id": "be93e821-989d-46aa-83fe-c295a5652842",
   "metadata": {},
   "outputs": [],
   "source": [
    "# SerpAPIのキー読み込み\n",
    "with open(f'{Path.home()}/.private_info/serpapi_key.txt') as f2:\n",
    "    serpapi_key = f2.read()"
   ]
  },
  {
   "cell_type": "markdown",
   "id": "2c071c69-9782-4fa5-a200-10cd0792a9c2",
   "metadata": {},
   "source": [
    "# LangChainの「Agents」\n",
    "\n",
    "言語モデルに渡されたツールを用いて、モデル自体が次にどのようなアクションを取るかを決定し、実行し、観測し、完了するまで繰り返す機能"
   ]
  },
  {
   "cell_type": "markdown",
   "id": "ad4872cd-c4dc-48dd-8296-7e79aa06dc19",
   "metadata": {},
   "source": [
    "① GPT3.5で簡単なタスク"
   ]
  },
  {
   "cell_type": "code",
   "execution_count": 5,
   "id": "80d6802d-b497-4697-be69-6ada202f33fb",
   "metadata": {},
   "outputs": [
    {
     "name": "stdout",
     "output_type": "stream",
     "text": [
      "\n",
      "\n",
      "\u001b[1m> Entering new AgentExecutor chain...\u001b[0m\n",
      "\u001b[32;1m\u001b[1;3mI may need to search for information on the 2023 World Baseball Classic and Shohei Ohtani's performance.\n",
      "Action: Search\n",
      "Action Input: \"2023 World Baseball Classic Shohei Ohtani stats\"\u001b[0m\n",
      "Observation: \u001b[36;1m\u001b[1;3mHe hit . 435/. 606/. 739 with four doubles, a home run, and 10 walks in the tournament while also pitching to a 1.86 ERA with 11 strikeouts in 9 2/3 innings.\u001b[0m\n",
      "Thought:\u001b[32;1m\u001b[1;3mThat's a great performance by Shohei Ohtani!\n",
      "Thought: I now know the final answer\n",
      "Final Answer: Shohei Ohtani hit .435/.606/.739 with four doubles, a home run, and 10 walks in the 2023 World Baseball Classic, while also pitching to a 1.86 ERA with 11 strikeouts in 9 2/3 innings.\u001b[0m\n",
      "\n",
      "\u001b[1m> Finished chain.\u001b[0m\n"
     ]
    }
   ],
   "source": [
    "llm = ChatOpenAI(model_name='gpt-3.5-turbo', openai_api_key=api_key)\n",
    "tools = load_tools(['serpapi'], llm=llm, serpapi_api_key=serpapi_key)\n",
    "agent = initialize_agent(tools, llm, agent=\"zero-shot-react-description\", verbose=True)\n",
    "response = agent.run('2023 WORLD BASEBALL CLASSICの大谷翔平の成績をまとめて下さい。')"
   ]
  },
  {
   "cell_type": "markdown",
   "id": "a586aff8-6fda-44fd-8295-9ac15295189c",
   "metadata": {},
   "source": [
    "② GPT3.5でちょいムズなタスク"
   ]
  },
  {
   "cell_type": "code",
   "execution_count": 6,
   "id": "ac19ef4a-584e-48aa-a20a-a408869d93bd",
   "metadata": {},
   "outputs": [],
   "source": [
    "# llm = ChatOpenAI(model_name='gpt-3.5-turbo', openai_api_key=api_key)\n",
    "# tools = load_tools(['serpapi'], llm=llm, serpapi_api_key=serpapi_key)\n",
    "# agent = initialize_agent(tools, llm, agent=\"zero-shot-react-description\", verbose=True)\n",
    "# response = agent.run('2023 WORLD BASEBALL CLASSICの大谷翔平の成績をマークダウン形式で表にまとめて下さい。')"
   ]
  },
  {
   "cell_type": "markdown",
   "id": "fe1c0169-a7b0-49a3-b079-71a9bf78bd1f",
   "metadata": {},
   "source": [
    "③ GPT4でちょいムズなタスク"
   ]
  },
  {
   "cell_type": "code",
   "execution_count": 7,
   "id": "2f81ae00-7f97-4f61-94a1-4e300bdfd81e",
   "metadata": {},
   "outputs": [
    {
     "name": "stdout",
     "output_type": "stream",
     "text": [
      "\n",
      "\n",
      "\u001b[1m> Entering new AgentExecutor chain...\u001b[0m\n",
      "\u001b[32;1m\u001b[1;3mまず、2023年のワールド・ベースボール・クラシック(WBC)が開催されたかどうかと、大谷翔平の成績を調べる必要がある。\n",
      "Action: Search\n",
      "Action Input: 2023 World Baseball Classic Shohei Ohtani stats\u001b[0m\n",
      "Observation: \u001b[36;1m\u001b[1;3mHe hit . 435/. 606/. 739 with four doubles, a home run, and 10 walks in the tournament while also pitching to a 1.86 ERA with 11 strikeouts in 9 2/3 innings.\u001b[0m\n",
      "Thought:\u001b[32;1m\u001b[1;3m2023年のワールド・ベースボール・クラシックで大谷翔平の成績を調べたので、マークダウン形式で表にまとめる。\n",
      "\n",
      "Final Answer:\n",
      "\n",
      "```\n",
      "| 項目            | 成績           |\n",
      "|-----------------|----------------|\n",
      "| 打率            | .435           |\n",
      "| 出塁率          | .606           |\n",
      "| 長打率          | .739           |\n",
      "| 二塁打          | 4              |\n",
      "| ホームラン      | 1              |\n",
      "| 四球            | 10             |\n",
      "| 投球イニング    | 9 2/3          |\n",
      "| 防御率          | 1.86           |\n",
      "| 奪三振          | 11             |\n",
      "```\u001b[0m\n",
      "\n",
      "\u001b[1m> Finished chain.\u001b[0m\n"
     ]
    }
   ],
   "source": [
    "llm = ChatOpenAI(model_name='gpt-4', openai_api_key=api_key)\n",
    "tools = load_tools(['serpapi'], llm=llm, serpapi_api_key=serpapi_key)\n",
    "agent = initialize_agent(tools, llm, agent=\"zero-shot-react-description\", verbose=True)\n",
    "response = agent.run('2023 WORLD BASEBALL CLASSICの大谷翔平の成績をマークダウン形式で表にまとめて下さい。')"
   ]
  },
  {
   "cell_type": "markdown",
   "id": "20067db3-2d37-4d5f-b514-22b4d621acb2",
   "metadata": {},
   "source": [
    "<font color=\"RoyalBlue\">結論：Agentsを動かすにはGPT3.5はアホすぎる</font>"
   ]
  },
  {
   "cell_type": "markdown",
   "id": "c5e41cb9-f415-41c6-b8d9-0428c8bf0bb0",
   "metadata": {},
   "source": [
    "# 会話を続けられて検索もできるエージェントを作る"
   ]
  },
  {
   "cell_type": "code",
   "execution_count": 8,
   "id": "66da6d3a-460e-4647-89ab-64fc0aaa3449",
   "metadata": {},
   "outputs": [],
   "source": [
    "memory = ConversationBufferMemory(memory_key=\"chat_history\", return_messages=True)\n",
    "llm = ChatOpenAI(model_name='gpt-4', openai_api_key=api_key)\n",
    "tools = load_tools(['serpapi'], llm=llm, serpapi_api_key=serpapi_key)\n",
    "agent_chain = initialize_agent(tools, llm, agent='conversational-react-description', verbose=True, memory=memory)"
   ]
  },
  {
   "cell_type": "code",
   "execution_count": 9,
   "id": "d1d89680-26b0-4219-9da9-1943e3ad3886",
   "metadata": {},
   "outputs": [
    {
     "data": {
      "text/plain": [
       "ConversationBufferMemory(chat_memory=ChatMessageHistory(messages=[]), output_key=None, input_key=None, return_messages=True, human_prefix='Human', ai_prefix='AI', memory_key='chat_history')"
      ]
     },
     "execution_count": 9,
     "metadata": {},
     "output_type": "execute_result"
    }
   ],
   "source": [
    "memory"
   ]
  },
  {
   "cell_type": "code",
   "execution_count": 10,
   "id": "d7e3def6-44a9-4b67-adc2-32036d0f56b0",
   "metadata": {},
   "outputs": [
    {
     "name": "stdout",
     "output_type": "stream",
     "text": [
      "\n",
      "\n",
      "\u001b[1m> Entering new AgentExecutor chain...\u001b[0m\n",
      "\u001b[32;1m\u001b[1;3mThought: Do I need to use a tool? Yes\n",
      "Action: Search\n",
      "Action Input: 2023 World Baseball Classic Shohei Ohtani stats\u001b[0m\n",
      "Observation: \u001b[36;1m\u001b[1;3mHe hit . 435/. 606/. 739 with four doubles, a home run, and 10 walks in the tournament while also pitching to a 1.86 ERA with 11 strikeouts in 9 2/3 innings.\u001b[0m\n",
      "Thought:\u001b[32;1m\u001b[1;3mDo I need to use a tool? No\n",
      "AI: 大谷翔平選手の2023年のワールド・ベースボール・クラシック成績は、打率.435、出塁率.606、長打率.739で、ダブル4本、ホームラン1本、四球10個を記録しました。また、投手としては、9 2/3イニングで11奪三振、防御率1.86の成績を残しています。\u001b[0m\n",
      "\n",
      "\u001b[1m> Finished chain.\u001b[0m\n"
     ]
    },
    {
     "data": {
      "text/plain": [
       "'大谷翔平選手の2023年のワールド・ベースボール・クラシック成績は、打率.435、出塁率.606、長打率.739で、ダブル4本、ホームラン1本、四球10個を記録しました。また、投手としては、9 2/3イニングで11奪三振、防御率1.86の成績を残しています。'"
      ]
     },
     "execution_count": 10,
     "metadata": {},
     "output_type": "execute_result"
    }
   ],
   "source": [
    "agent_chain.run('2023 WORLD BASEBALL CLASSICの大谷翔平の成績をまとめて下さい。')"
   ]
  },
  {
   "cell_type": "code",
   "execution_count": 11,
   "id": "1fe588f4-0012-4e9d-95d1-8ea0ccd2ef16",
   "metadata": {},
   "outputs": [
    {
     "name": "stdout",
     "output_type": "stream",
     "text": [
      "\n",
      "\n",
      "\u001b[1m> Entering new AgentExecutor chain...\u001b[0m\n",
      "\u001b[32;1m\u001b[1;3mThought: Do I need to use a tool? No\n",
      "AI: 大谷翔平選手は、2023年のワールド・ベースボール・クラシックで1本のホームランを打ちました。\u001b[0m\n",
      "\n",
      "\u001b[1m> Finished chain.\u001b[0m\n"
     ]
    },
    {
     "data": {
      "text/plain": [
       "'大谷翔平選手は、2023年のワールド・ベースボール・クラシックで1本のホームランを打ちました。'"
      ]
     },
     "execution_count": 11,
     "metadata": {},
     "output_type": "execute_result"
    }
   ],
   "source": [
    "agent_chain.run('彼は何本のホームランを打ちましたか？')"
   ]
  },
  {
   "cell_type": "code",
   "execution_count": 12,
   "id": "0de7a14d-948c-48da-a412-fd519cbc42e6",
   "metadata": {},
   "outputs": [],
   "source": [
    "memory.clear()"
   ]
  }
 ],
 "metadata": {
  "kernelspec": {
   "display_name": "Python [conda env:root] *",
   "language": "python",
   "name": "conda-root-py"
  },
  "language_info": {
   "codemirror_mode": {
    "name": "ipython",
    "version": 3
   },
   "file_extension": ".py",
   "mimetype": "text/x-python",
   "name": "python",
   "nbconvert_exporter": "python",
   "pygments_lexer": "ipython3",
   "version": "3.10.10"
  }
 },
 "nbformat": 4,
 "nbformat_minor": 5
}
