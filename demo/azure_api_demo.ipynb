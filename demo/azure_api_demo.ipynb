{
 "cells": [
  {
   "cell_type": "markdown",
   "id": "678499d0-41aa-4b6b-bfd0-9b244f2f85ce",
   "metadata": {},
   "source": [
    "# 設定"
   ]
  },
  {
   "cell_type": "code",
   "execution_count": null,
   "id": "b3aa50ce-7fea-4ed2-b282-3e078b5f6296",
   "metadata": {
    "tags": []
   },
   "outputs": [],
   "source": [
    "import openai\n",
    "from pathlib import Path\n",
    "import chatutil  # original\n",
    "\n",
    "# API_KEY読み込み\n",
    "with open(f'{Path.home()}/.private_info/azure_openai_key.txt') as f:\n",
    "    azure_openai_key = f.read()\n",
    "\n",
    "openai.api_type = \"azure\"\n",
    "openai.api_base = \"AZURE_OPENAI_ENDPOINT\"\n",
    "openai.api_version = '2023-05-15'  # this may change in the future\n",
    "openai.api_key = azure_openai_key\n",
    "engine = 'DEPLOYMENT_NAME'"
   ]
  },
  {
   "cell_type": "code",
   "execution_count": null,
   "id": "888d716e-eed8-4389-a0f1-8444b1345706",
   "metadata": {},
   "outputs": [],
   "source": [
    "# インスタンスを生成\n",
    "gpt = chatutil.NewChat(engine=engine)"
   ]
  },
  {
   "cell_type": "code",
   "execution_count": null,
   "id": "c7966f6e-02c8-4d05-bcdf-3ddfa7f2f133",
   "metadata": {},
   "outputs": [],
   "source": [
    "# 質問\n",
    "reply = gpt.generate('サンマがおいしい季節は？')\n",
    "print(reply)"
   ]
  }
 ],
 "metadata": {
  "kernelspec": {
   "display_name": "Python [conda env:root] *",
   "language": "python",
   "name": "conda-root-py"
  },
  "language_info": {
   "codemirror_mode": {
    "name": "ipython",
    "version": 3
   },
   "file_extension": ".py",
   "mimetype": "text/x-python",
   "name": "python",
   "nbconvert_exporter": "python",
   "pygments_lexer": "ipython3",
   "version": "3.10.10"
  }
 },
 "nbformat": 4,
 "nbformat_minor": 5
}
