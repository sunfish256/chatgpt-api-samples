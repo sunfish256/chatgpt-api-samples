{
 "cells": [
  {
   "cell_type": "code",
   "execution_count": 1,
   "id": "d37c3f40-f4c4-49e9-bb32-d245ff3b4c89",
   "metadata": {},
   "outputs": [],
   "source": [
    "# パッケージ未インストールの場合は以下を実行\n",
    "# ! pip install openai"
   ]
  },
  {
   "cell_type": "code",
   "execution_count": 2,
   "id": "0986268c-5635-4f2f-ad1a-12a2743b5a79",
   "metadata": {},
   "outputs": [],
   "source": [
    "import openai\n",
    "from pathlib import Path"
   ]
  },
  {
   "cell_type": "markdown",
   "id": "8fc0525f-c5d9-4e8e-a405-9e746cd64d92",
   "metadata": {},
   "source": [
    "# APIキー取得  \n",
    "  \n",
    "OpenAIからAPIキーを取得します。APIキーは以下のURLから取得できます。  \n",
    "https://platform.openai.com/account/api-keys  \n",
    "\n",
    "【注意】  \n",
    "<font color=\"Crimson\">APIキーが流出すると他人に利用されて料金を請求されます！</font>  \n",
    "絶対に共有してはいけません。  \n",
    "  \n",
    "【Tips】  \n",
    "初めてキーを取得した場合は、18$分のクレジットを無料で貰えます。（有効期限3ヶ月）  \n",
    "お試しには十分すぎる量です。  "
   ]
  },
  {
   "cell_type": "code",
   "execution_count": 3,
   "id": "030eafcd-6b3a-4dd7-9725-224c2a6b0da7",
   "metadata": {},
   "outputs": [],
   "source": [
    "# APIキーの読み込み\n",
    "# キーを格納したテキストファイルを指定して読み込み\n",
    "with open(f'{Path.home()}/.private_info/api_key.txt') as f:\n",
    "    openai.api_key = f.read()"
   ]
  },
  {
   "cell_type": "markdown",
   "id": "1f8498f6-f0fb-4a92-8290-1b0e843c357f",
   "metadata": {},
   "source": [
    "# ChatGPT APIのロールについて  \n",
    "  \n",
    "ChatGPTのAPIでは、「roleとcontentが格納されたリスト」をパラメーターとして指定してリクエストを送ります。  \n",
    "roleは、「system, user, assistant」の3種類から選ぶことができます。  \n",
    "  \n",
    "system（任意）：ChatGPTに対して「どのように振る舞ってほしいか？」や「どのような状況下か？」などの条件を指示するロール。あると精度が上がりやすい。  \n",
    "user：ユーザーからの「プロンプト（指示や質問）」を送るロール。  \n",
    "assistant：これまでのChatGPTが生成した「返答の履歴」を共有するロール。  \n",
    "  \n",
    "【注意】  \n",
    "<font color=\"Crimson\">実行する度に料金がかかります！</font>  [トークン数を確認できるサイト](https://platform.openai.com/tokenizer)      \n",
    "ChatGPT (gpt-3.5-turbo) の場合：0.002 $ / 1000 tokens  \n",
    "https://openai.com/pricing  \n",
    "  \n",
    "連続的なチャットでは過去のチャットもトークンにカウントされます。\n",
    "雪だるま式にトークンがかさむので要注意。  \n",
    "[利用料金の節約術](https://auto-worker.com/blog/?p=7459)はこちら  \n",
    "  \n",
    "【Tips】  \n",
    "API経由の入力データは<font color=\"Crimson\">モデル学習に利用されない</font>利用規約となっており、業務利用が可能（？）です。  \n",
    "詳しくは[OpenAI公式ガイド](https://platform.openai.com/docs/guides/chat)で確認してください。  \n",
    "  \n",
    "[参考サイト１](https://chatgpt-lab.com/n/nda0de0be1774)  \n",
    "[参考サイト２](https://zenn.dev/umi_mori/articles/chatgpt-api-python)  \n",
    "[参考YouTube](https://youtu.be/p_GiUN_DDPU)  "
   ]
  },
  {
   "cell_type": "code",
   "execution_count": 4,
   "id": "6b58c306-a498-42d2-86b1-55c67cdb8bc7",
   "metadata": {},
   "outputs": [],
   "source": [
    "# system role の設定（任意）\n",
    "role_content = 'You are a helpful assistant.'\n",
    "\n",
    "messages = [\n",
    "    {'role': 'system', 'content': role_content},\n",
    "]"
   ]
  },
  {
   "cell_type": "markdown",
   "id": "26710a0a-d0fb-48f0-b716-ff5f1d811ae2",
   "metadata": {},
   "source": [
    "# 実行  \n",
    "  \n",
    "ダイアログが表示されるので質問文を入力して下さい。  \n",
    "繰り返し入力することで連続的なやり取りが可能です。  \n",
    "  \n",
    "[参考動画](https://youtu.be/p_GiUN_DDPU)  "
   ]
  },
  {
   "cell_type": "code",
   "execution_count": 5,
   "id": "076f83d2-afd0-45b9-813e-c6c763b89784",
   "metadata": {},
   "outputs": [
    {
     "name": "stdin",
     "output_type": "stream",
     "text": [
      "YOU:  日本で一番大きい湖は？\n"
     ]
    },
    {
     "name": "stdout",
     "output_type": "stream",
     "text": [
      "\n",
      "AI : 日本で一番大きい湖は琵琶湖(びわこ)です。\n",
      "\n"
     ]
    },
    {
     "name": "stdin",
     "output_type": "stream",
     "text": [
      "YOU:  二番目は？\n"
     ]
    },
    {
     "name": "stdout",
     "output_type": "stream",
     "text": [
      "\n",
      "AI : 日本で二番目に大きい湖は霞ヶ浦(かすみがうら)です。\n",
      "\n"
     ]
    },
    {
     "name": "stdin",
     "output_type": "stream",
     "text": [
      "YOU:  ok\n"
     ]
    },
    {
     "name": "stdout",
     "output_type": "stream",
     "text": [
      "\n",
      "Total tokens usage: 100\n",
      "\n",
      "Contents of variable \"messages\":\n",
      "[{'role': 'system', 'content': 'You are a helpful assistant.'}, {'role': 'user', 'content': '日本で一番大きい湖は？'}, {'role': 'assistant', 'content': '日本で一番大きい湖は琵琶湖(びわこ)です。'}, {'role': 'user', 'content': '二番目は？'}, {'role': 'assistant', 'content': '日本で二番目に大きい湖は霞ヶ浦(かすみがうら)です。'}]\n"
     ]
    }
   ],
   "source": [
    "while True:\n",
    "    message = input('YOU: ')\n",
    "\n",
    "    # ok を入力するとsystem role以外のチャット履歴を削除（リセット）\n",
    "    if message == 'ok':\n",
    "        # トータルのトークン使用量を表示\n",
    "        if chat_completion:\n",
    "            tokens = chat_completion.usage.total_tokens\n",
    "            print(f'\\nTotal tokens usage: {tokens}')\n",
    "            print(f'\\nContents of variable \"messages\":\\n{messages}')\n",
    "        messages = [messages[0]]\n",
    "        break\n",
    "\n",
    "    # 連続的なチャット（トークン増大に注意）\n",
    "    # userとassistantのやりとりをmessagesのリストに追加\n",
    "    elif message:\n",
    "        messages.append(\n",
    "            {'role': 'user', 'content': message},\n",
    "        )\n",
    "        chat_completion = openai.ChatCompletion.create(\n",
    "            model='gpt-3.5-turbo', messages=messages\n",
    "        )\n",
    "\n",
    "    reply = chat_completion.choices[0].message.content\n",
    "    print(f'\\nAI : {reply}\\n')\n",
    "    messages.append(\n",
    "        {'role': 'assistant', 'content': reply}\n",
    "    )"
   ]
  }
 ],
 "metadata": {
  "kernelspec": {
   "display_name": "Python [conda env:root] *",
   "language": "python",
   "name": "conda-root-py"
  },
  "language_info": {
   "codemirror_mode": {
    "name": "ipython",
    "version": 3
   },
   "file_extension": ".py",
   "mimetype": "text/x-python",
   "name": "python",
   "nbconvert_exporter": "python",
   "pygments_lexer": "ipython3",
   "version": "3.9.13"
  }
 },
 "nbformat": 4,
 "nbformat_minor": 5
}
