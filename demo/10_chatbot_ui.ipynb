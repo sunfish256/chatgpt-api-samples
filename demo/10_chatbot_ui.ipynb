{
 "cells": [
  {
   "cell_type": "markdown",
   "metadata": {},
   "source": [
    "[![Open In Colab](https://colab.research.google.com/assets/colab-badge.svg)](https://colab.research.google.com/github/sunfish256/chatgpt-api-samples/blob/main/demo/10_chatbot_ui.ipynb)"
   ]
  },
  {
   "cell_type": "markdown",
   "metadata": {},
   "source": [
    "[参考](https://qiita.com/tkmrsksk/items/7362f183138dfb324c50)  \n",
    "[gradio document](https://gradio.app/creating-a-chatbot/)  \n",
    "[gradio入門](https://note.com/npaka/n/nb9d4902f8f4d)  "
   ]
  },
  {
   "cell_type": "code",
   "execution_count": null,
   "metadata": {
    "colab": {
     "base_uri": "https://localhost:8080/"
    },
    "id": "LinPPuXa1h_6",
    "outputId": "d0b29ac7-1116-47ea-dc89-0a11a8f8d6bd"
   },
   "outputs": [],
   "source": [
    "# ! pip install langchain openai gradio"
   ]
  },
  {
   "cell_type": "code",
   "execution_count": null,
   "metadata": {
    "colab": {
     "base_uri": "https://localhost:8080/",
     "height": 620
    },
    "id": "QHEddvRH1MAN",
    "outputId": "93100a8f-d713-4ed8-b388-9286cf80ee6e"
   },
   "outputs": [],
   "source": [
    "import gradio as gr\n",
    "from langchain.chains import ConversationChain\n",
    "from langchain.chat_models import ChatOpenAI\n",
    "from langchain.memory import ConversationBufferMemory\n",
    "from langchain.prompts import PromptTemplate\n",
    "\n",
    "api_key = 'YOUR_KEY'  # input your openai api key\n",
    "\n",
    "css = '''\n",
    ".message.user{\n",
    "    background: #06c755 !important;\n",
    "}'''\n",
    "\n",
    "with gr.Blocks(css=css) as demo:\n",
    "    chatbot = gr.Chatbot()\n",
    "    msg = gr.Textbox(label='Message')\n",
    "    clear = gr.Button('Reset')\n",
    "\n",
    "    def create_bot():\n",
    "        llm = ChatOpenAI(model_name='gpt-3.5-turbo', openai_api_key=api_key)\n",
    "        # Change the templete to customize your bot\n",
    "        template = '''私と会話してください。\n",
    "        {history}\n",
    "        {input}\n",
    "        '''\n",
    "        prompt = PromptTemplate(\n",
    "            input_variables=['history', 'input'],\n",
    "            template=template\n",
    "        )\n",
    "        memory = ConversationBufferMemory(return_messages=True)\n",
    "        global conversation\n",
    "        conversation = ConversationChain(llm=llm, prompt=prompt, memory=memory, verbose=True)\n",
    "\n",
    "    def user(message, history):\n",
    "        return '', history + [[message, None]]\n",
    "\n",
    "    def chat(history):\n",
    "        message = history[-1][0]\n",
    "        response = conversation.predict(input=message)\n",
    "        history[-1][1] = response\n",
    "        return history\n",
    "\n",
    "    create_bot()\n",
    "    msg.submit(user, [msg, chatbot], [msg, chatbot], queue=False).then(\n",
    "        chat, chatbot, chatbot\n",
    "    )\n",
    "    clear.click(create_bot, None, chatbot, queue=False)\n",
    "\n",
    "if __name__ == '__main__':\n",
    "    demo.launch()"
   ]
  }
 ],
 "metadata": {
  "colab": {
   "name": "Colaboratory へようこそ",
   "provenance": []
  },
  "kernelspec": {
   "display_name": "Python 3 (ipykernel)",
   "language": "python",
   "name": "python3"
  },
  "language_info": {
   "codemirror_mode": {
    "name": "ipython",
    "version": 3
   },
   "file_extension": ".py",
   "mimetype": "text/x-python",
   "name": "python",
   "nbconvert_exporter": "python",
   "pygments_lexer": "ipython3",
   "version": "3.9.13"
  }
 },
 "nbformat": 4,
 "nbformat_minor": 4
}
