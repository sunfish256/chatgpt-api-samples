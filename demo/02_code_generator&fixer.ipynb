{
 "cells": [
  {
   "cell_type": "code",
   "execution_count": 1,
   "id": "0986268c-5635-4f2f-ad1a-12a2743b5a79",
   "metadata": {},
   "outputs": [],
   "source": [
    "import openai\n",
    "from pathlib import Path"
   ]
  },
  {
   "cell_type": "markdown",
   "id": "8fc0525f-c5d9-4e8e-a405-9e746cd64d92",
   "metadata": {
    "tags": []
   },
   "source": [
    "APIキーは以下のURLから取得できます。  \n",
    "https://platform.openai.com/account/api-keys  \n",
    "\n",
    "【注意】  \n",
    "<font color=\"Crimson\">APIキーが流出すると他人に利用されて料金を請求されます！</font>  \n",
    "絶対に共有してはいけません。  "
   ]
  },
  {
   "cell_type": "code",
   "execution_count": 2,
   "id": "348ae9b7-9222-4f14-944f-02b7143b0af9",
   "metadata": {},
   "outputs": [],
   "source": [
    "# APIキーの読み込み\n",
    "# キーを格納したテキストファイルを指定して読み込み\n",
    "with open(f'{Path.home()}/.private_info/api_key.txt') as f:\n",
    "    openai.api_key = f.read()"
   ]
  },
  {
   "cell_type": "markdown",
   "id": "16b5c795-0957-4a5a-befd-0262bd878d73",
   "metadata": {},
   "source": [
    "# パラメータ設定\n",
    "\n",
    "- temperature (optional): float, 0~2, defaults to 1 \n",
    "  \n",
    "サンプリング温度(※)を 0〜2 の間で指定します。\n",
    "値が低いほど、より関連性の高い単語が選ばれやすくなり、値が高いほど、より多様な単語が選ばれやすくなります。  \n",
    "この値か top_p パラメーター を変更することを推奨していますが、両方は同時に変更することは推奨されません。  \n",
    "  \n",
    "※サンプリング温度について  \n",
    "文章生成時に使用される確率分布の調整パラメーターの一つで、生成される文章の多様性や不確実性を調整するために使用されます。  \n",
    "サンプリング温度が低い場合、より一貫性がある文章が生成され、単語の組み合わせの変化が少なくなります。  \n",
    "サンプリング温度が高い場合、より多様な文章が生成され、単語の組み合わせがより多様になります。  \n",
    "ChatGPT のデフォルトは 0.7 です。  \n",
    "  \n",
    "- top_p (optional): float, 0~1, optional, defaults to 1\n",
    "  \n",
    "サンプリング温度に代わるものとして利用されます。  \n",
    "値が小さいほど、生成される文章は文法的により正確になります。  \n",
    "値が大きいほど、より多様な単語が選択されるため、生成される文章はより多様になります。  \n",
    "tenperature パラメーターとの併用は推奨されていません。  \n",
    "ChatGPT のデフォルトは 0.9~0.95 です。  \n",
    "  \n",
    "- その他のパラメータは[公式ドキュメント](https://platform.openai.com/docs/api-reference/models)を参照  \n",
    "  \n",
    "[日本語参考サイト3](https://ai-create.net/magazine/2023/03/02/post-10647/)  "
   ]
  },
  {
   "cell_type": "markdown",
   "id": "3eeb4a80-55ab-44dc-af6d-c54d5f676834",
   "metadata": {
    "tags": []
   },
   "source": [
    "# code_generator  \n",
    "  \n",
    "「Pythonでやりたいこと」を関数に入力"
   ]
  },
  {
   "cell_type": "code",
   "execution_count": 4,
   "id": "2df90512-9795-4eb8-89fc-62217388db46",
   "metadata": {},
   "outputs": [],
   "source": [
    "def code_generator(message: str):\n",
    "    # system role\n",
    "    role_content = 'Create Python scripts. Then, your answer must be the scripts only.'\n",
    "    messages = [\n",
    "        {'role': 'system', 'content': role_content},\n",
    "    ]\n",
    "    # input message\n",
    "    messages.append(\n",
    "        {'role': 'user', 'content': message},\n",
    "    )\n",
    "    # get reply\n",
    "    chat_completion = openai.ChatCompletion.create(\n",
    "        model='gpt-3.5-turbo',\n",
    "        messages=messages,\n",
    "        # temperature=0.1,  # Only one of \"temperature\" and \"top_p\" should be modified.\n",
    "        top_p=0.1,  # Only one of \"temperature\" and \"top_p\" should be modified.\n",
    "    )\n",
    "    reply = chat_completion.choices[0].message.content\n",
    "    print(reply)"
   ]
  },
  {
   "cell_type": "code",
   "execution_count": 5,
   "id": "8d1f9dad-9606-484f-9744-1ed10f16bc03",
   "metadata": {},
   "outputs": [
    {
     "name": "stdout",
     "output_type": "stream",
     "text": [
      "```\n",
      "fib = [0, 1]\n",
      "while fib[-1] < 10:\n",
      "    fib.append(fib[-1] + fib[-2])\n",
      "print(fib[:-1])\n",
      "```\n"
     ]
    }
   ],
   "source": [
    "code_generator('10以下のフィボナッチ数列をリストで出力する')"
   ]
  },
  {
   "cell_type": "code",
   "execution_count": 6,
   "id": "0fcae5f4-5c4f-442f-aec0-a17966d77d6a",
   "metadata": {},
   "outputs": [
    {
     "name": "stdout",
     "output_type": "stream",
     "text": [
      "[0, 1, 1, 2, 3, 5, 8]\n"
     ]
    }
   ],
   "source": [
    "fib = [0, 1]\n",
    "while fib[-1] < 10:\n",
    "    fib.append(fib[-1] + fib[-2])\n",
    "print(fib[:-1])"
   ]
  },
  {
   "cell_type": "code",
   "execution_count": 7,
   "id": "97197e06-86e3-4541-88da-5c19f3409a32",
   "metadata": {},
   "outputs": [
    {
     "name": "stdout",
     "output_type": "stream",
     "text": [
      "```\n",
      "fibonacci = [1, 1]\n",
      "while fibonacci[-1] < 10:\n",
      "    fibonacci.append(fibonacci[-1] + fibonacci[-2])\n",
      "print(fibonacci[:-1])\n",
      "```\n"
     ]
    }
   ],
   "source": [
    "code_generator('10以下のフィボナッチ数列をリストで出力する。このとき0はリストに含まない。')"
   ]
  },
  {
   "cell_type": "code",
   "execution_count": 8,
   "id": "9ae9d78f-06c1-499f-8241-5236ee1cb766",
   "metadata": {},
   "outputs": [
    {
     "name": "stdout",
     "output_type": "stream",
     "text": [
      "[1, 1, 2, 3, 5, 8]\n"
     ]
    }
   ],
   "source": [
    "fib = [1, 1]\n",
    "while fib[-1] < 10:\n",
    "    fib.append(fib[-1] + fib[-2])\n",
    "print(fib[:-1])"
   ]
  },
  {
   "cell_type": "markdown",
   "id": "95d733d8-cf23-49a7-a28c-f008fc104d23",
   "metadata": {
    "tags": []
   },
   "source": [
    "# code_fixer  \n",
    "  \n",
    "「うまくいかないコード」を関数に入力"
   ]
  },
  {
   "cell_type": "code",
   "execution_count": 9,
   "id": "804390d8-facb-4cd6-b614-a3a6cb4c52ee",
   "metadata": {},
   "outputs": [],
   "source": [
    "def code_fixer(message: str):\n",
    "    # system role\n",
    "    role_content = 'Fix bugs in the Python scripts. Then, your answer must be the scripts only.'\n",
    "    messages = [\n",
    "        {'role': 'system', 'content': role_content},\n",
    "    ]\n",
    "    # input message\n",
    "    messages.append(\n",
    "        {'role': 'user', 'content': message},\n",
    "    )\n",
    "    # get reply\n",
    "    chat_completion = openai.ChatCompletion.create(\n",
    "        model='gpt-3.5-turbo',\n",
    "        messages=messages,\n",
    "        # temperature=0.1,  # Only one of \"temperature\" and \"top_p\" should be modified.\n",
    "        top_p=0.1,  # Only one of \"temperature\" and \"top_p\" should be modified.\n",
    "    )\n",
    "    reply = chat_completion.choices[0].message.content\n",
    "    print(reply)"
   ]
  },
  {
   "cell_type": "code",
   "execution_count": 10,
   "id": "78d029ca-f32e-476e-9630-6e754db4dde1",
   "metadata": {},
   "outputs": [
    {
     "name": "stdout",
     "output_type": "stream",
     "text": [
      "import pandas as pd\n",
      "\n",
      "df = pd.read_excel('hogefuga.xlsx') # corrected file extension from .excel to .xlsx\n"
     ]
    }
   ],
   "source": [
    "code_fixer(\n",
    "\"\"\"\n",
    "import pandas as pd\n",
    "\n",
    "df = pd.read_csv('hogefuga.excel')\n",
    "\"\"\"\n",
    ")"
   ]
  },
  {
   "cell_type": "code",
   "execution_count": 10,
   "id": "66eb97bd-a63a-4d5e-9e41-1823c79a2f3d",
   "metadata": {},
   "outputs": [
    {
     "name": "stdout",
     "output_type": "stream",
     "text": [
      "There are a few issues with this script. Here's the corrected version:\n",
      "\n",
      "```\n",
      "columns_price = ['a', 'b', 'c']\n",
      "df[columns_price] = df[columns_price].sub(df['average'], axis=0)\n",
      "```\n",
      "\n",
      "Explanation:\n",
      "\n",
      "1. We need to use the `sub` method to subtract the `average` column from the `columns_price` columns. \n",
      "2. We need to specify `axis=0` to ensure that the subtraction is done row-wise. \n",
      "3. We need to use `df[columns_price]` on both sides of the equation to ensure that we are only modifying the `columns_price` columns and not creating new columns.\n"
     ]
    }
   ],
   "source": [
    "code_fixer(\n",
    "\"\"\"\n",
    "columns_price = ['a', 'b', 'c']\n",
    "df[columns_price] = df['average'] - df[columns_price]\n",
    "\"\"\"\n",
    ")"
   ]
  },
  {
   "cell_type": "markdown",
   "id": "15a1ce0c-6f53-4942-8108-19a2e4ea345e",
   "metadata": {
    "tags": []
   },
   "source": [
    "# code_generator2  \n",
    "  \n",
    "交互にやり取りできるようにしました。  "
   ]
  },
  {
   "cell_type": "code",
   "execution_count": 11,
   "id": "e00ee6b3-7aae-4e3d-a12b-c7f6f54234d0",
   "metadata": {},
   "outputs": [],
   "source": [
    "class CodeGenerator2:\n",
    "\n",
    "    def __init__(self, api_key):\n",
    "        openai.api_key = api_key\n",
    "        self.role = 'Create Python scripts. Then, your answer must be the scripts only.'\n",
    "        self.messages = [\n",
    "            {'role': 'system', 'content': self.role},\n",
    "        ]\n",
    "\n",
    "    def generate(self, message: str):\n",
    "        # input message\n",
    "        self.messages.append(\n",
    "            {'role': 'user', 'content': message},\n",
    "        )\n",
    "        # get reply\n",
    "        chat_completion = openai.ChatCompletion.create(\n",
    "            model='gpt-3.5-turbo',\n",
    "            messages=self.messages,\n",
    "            # temperature=0.1,  # Only one of \"temperature\" and \"top_p\" should be modified.\n",
    "            top_p=0.1,  # Only one of \"temperature\" and \"top_p\" should be modified.\n",
    "        )\n",
    "        reply = chat_completion.choices[0].message.content\n",
    "        print(reply)\n",
    "        self.messages.append(\n",
    "            {'role': 'assistant', 'content': reply}\n",
    "        )\n",
    "\n",
    "    def clear(self):\n",
    "        self.messages = [\n",
    "            {'role': 'system', 'content': self.role},\n",
    "        ]"
   ]
  },
  {
   "cell_type": "code",
   "execution_count": 12,
   "id": "f4ce888e-f433-48b1-b9de-e9c8dcfa402f",
   "metadata": {},
   "outputs": [],
   "source": [
    "with open(f'{Path.home()}/.private_info/api_key.txt') as f:\n",
    "    api_key = f.read()\n",
    "\n",
    "cg = CodeGenerator2(api_key=api_key)"
   ]
  },
  {
   "cell_type": "code",
   "execution_count": 13,
   "id": "ad3cdc0e-8849-4105-83f6-beb1b378cf4e",
   "metadata": {},
   "outputs": [
    {
     "name": "stdout",
     "output_type": "stream",
     "text": [
      "```\n",
      "fib = [0, 1]\n",
      "while fib[-1] < 10:\n",
      "    fib.append(fib[-1] + fib[-2])\n",
      "print(fib[:-1])\n",
      "```\n"
     ]
    }
   ],
   "source": [
    "# 最初の質問\n",
    "cg.generate('10以下のフィボナッチ数列をリストで出力する')"
   ]
  },
  {
   "cell_type": "code",
   "execution_count": 14,
   "id": "aad2f4ef-5c1c-4da1-b416-93cd7caa3171",
   "metadata": {},
   "outputs": [
    {
     "name": "stdout",
     "output_type": "stream",
     "text": [
      "```\n",
      "fib = [1, 1]\n",
      "while fib[-1] < 10:\n",
      "    fib.append(fib[-1] + fib[-2])\n",
      "print(fib[:-1])\n",
      "```\n"
     ]
    }
   ],
   "source": [
    "# 続けて質問\n",
    "cg.generate('0は出力のリストに含まないように修正して')"
   ]
  },
  {
   "cell_type": "code",
   "execution_count": 15,
   "id": "66f90ff0-6ba4-4025-9446-70f1b1b2dfe3",
   "metadata": {},
   "outputs": [
    {
     "data": {
      "text/plain": [
       "[{'role': 'system',\n",
       "  'content': 'Create Python scripts. Then, your answer must be the scripts only.'},\n",
       " {'role': 'user', 'content': '10以下のフィボナッチ数列をリストで出力する'},\n",
       " {'role': 'assistant',\n",
       "  'content': '```\\nfib = [0, 1]\\nwhile fib[-1] < 10:\\n    fib.append(fib[-1] + fib[-2])\\nprint(fib[:-1])\\n```'},\n",
       " {'role': 'user', 'content': '0は出力のリストに含まないように修正して'},\n",
       " {'role': 'assistant',\n",
       "  'content': '```\\nfib = [1, 1]\\nwhile fib[-1] < 10:\\n    fib.append(fib[-1] + fib[-2])\\nprint(fib[:-1])\\n```'}]"
      ]
     },
     "execution_count": 15,
     "metadata": {},
     "output_type": "execute_result"
    }
   ],
   "source": [
    "# 過去のやり取りはスタックされている\n",
    "cg.messages"
   ]
  },
  {
   "cell_type": "code",
   "execution_count": 16,
   "id": "a8260ebf-c52e-4c8c-a3cd-2c255a53b30a",
   "metadata": {},
   "outputs": [
    {
     "data": {
      "text/plain": [
       "[{'role': 'system',\n",
       "  'content': 'Create Python scripts. Then, your answer must be the scripts only.'}]"
      ]
     },
     "execution_count": 16,
     "metadata": {},
     "output_type": "execute_result"
    }
   ],
   "source": [
    "# 解決したのでリセット\n",
    "cg.clear()\n",
    "cg.messages"
   ]
  },
  {
   "cell_type": "code",
   "execution_count": 17,
   "id": "29c64d8c-eeff-4417-a934-609d7698c04c",
   "metadata": {},
   "outputs": [
    {
     "name": "stdout",
     "output_type": "stream",
     "text": [
      "以下は、リスト内包表記を使用して、0を含まないリストを作成するPythonスクリプトです。\n",
      "\n",
      "```python\n",
      "original_list = [1, 2, 0, 3, 0, 4, 5, 0, 6]\n",
      "new_list = [x for x in original_list if x != 0]\n",
      "print(new_list)\n",
      "```\n",
      "\n",
      "出力：\n",
      "\n",
      "```\n",
      "[1, 2, 3, 4, 5, 6]\n",
      "```\n"
     ]
    }
   ],
   "source": [
    "# リセットしたら過去の文脈がなくなるのでChatGPT君が困惑する\n",
    "cg.generate('0は出力のリストに含まないように修正して')"
   ]
  }
 ],
 "metadata": {
  "kernelspec": {
   "display_name": "Python [conda env:root] *",
   "language": "python",
   "name": "conda-root-py"
  },
  "language_info": {
   "codemirror_mode": {
    "name": "ipython",
    "version": 3
   },
   "file_extension": ".py",
   "mimetype": "text/x-python",
   "name": "python",
   "nbconvert_exporter": "python",
   "pygments_lexer": "ipython3",
   "version": "3.9.13"
  }
 },
 "nbformat": 4,
 "nbformat_minor": 5
}
